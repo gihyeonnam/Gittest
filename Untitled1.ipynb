{
  "nbformat": 4,
  "nbformat_minor": 0,
  "metadata": {
    "colab": {
      "name": "Untitled1.ipynb",
      "provenance": [],
      "collapsed_sections": [],
      "authorship_tag": "ABX9TyM0o4QScnKx94zC0dLJbDlC",
      "include_colab_link": true
    },
    "kernelspec": {
      "name": "python3",
      "display_name": "Python 3"
    },
    "language_info": {
      "name": "python"
    }
  },
  "cells": [
    {
      "cell_type": "markdown",
      "metadata": {
        "id": "view-in-github",
        "colab_type": "text"
      },
      "source": [
        "<a href=\"https://colab.research.google.com/github/gihyeonnam/Gittest/blob/master/Untitled1.ipynb\" target=\"_parent\"><img src=\"https://colab.research.google.com/assets/colab-badge.svg\" alt=\"Open In Colab\"/></a>"
      ]
    },
    {
      "cell_type": "code",
      "metadata": {
        "id": "2MVraM8b_Agf"
      },
      "source": [
        "import numpy as np"
      ],
      "execution_count": 2,
      "outputs": []
    },
    {
      "cell_type": "code",
      "metadata": {
        "colab": {
          "base_uri": "https://localhost:8080/"
        },
        "id": "MNqEh3Tp_inQ",
        "outputId": "62debf90-92b5-4152-e6ff-768ebf6542b4"
      },
      "source": [
        "A = np.array([[0,1, -2.3, 0.1], [1.3, 4, -0.1, 0], [4.1, -1.0, 0, 1.7]])\n",
        "print(A)\n",
        "print(A.shape)"
      ],
      "execution_count": 10,
      "outputs": [
        {
          "output_type": "stream",
          "name": "stdout",
          "text": [
            "[[ 0.   1.  -2.3  0.1]\n",
            " [ 1.3  4.  -0.1  0. ]\n",
            " [ 4.1 -1.   0.   1.7]]\n",
            "(3, 4)\n"
          ]
        }
      ]
    },
    {
      "cell_type": "code",
      "metadata": {
        "colab": {
          "base_uri": "https://localhost:8080/"
        },
        "id": "lSrHExRy_58t",
        "outputId": "ffeb1bf2-073e-4977-f561-96be2a41ab94"
      },
      "source": [
        "m,n = A.shape\n",
        "print('m: ', m)\n",
        "print('n: ', n)"
      ],
      "execution_count": 12,
      "outputs": [
        {
          "output_type": "stream",
          "name": "stdout",
          "text": [
            "m:  3\n",
            "n:  4\n"
          ]
        }
      ]
    },
    {
      "cell_type": "code",
      "metadata": {
        "colab": {
          "base_uri": "https://localhost:8080/"
        },
        "id": "ZrG1pRUuADBO",
        "outputId": "5b17fa5c-9e6b-40c2-b342-c7a56d0c1268"
      },
      "source": [
        "tall = lambda X: A.shape[0] > A.shape[1]\n",
        "tall(A)"
      ],
      "execution_count": 13,
      "outputs": [
        {
          "output_type": "execute_result",
          "data": {
            "text/plain": [
              "False"
            ]
          },
          "metadata": {},
          "execution_count": 13
        }
      ]
    },
    {
      "cell_type": "code",
      "metadata": {
        "colab": {
          "base_uri": "https://localhost:8080/"
        },
        "id": "5vjdyySgAzI2",
        "outputId": "774c25cb-35a4-44d1-d324-aa2406b8988d"
      },
      "source": [
        "A[0, 2]"
      ],
      "execution_count": 14,
      "outputs": [
        {
          "output_type": "execute_result",
          "data": {
            "text/plain": [
              "-2.3"
            ]
          },
          "metadata": {},
          "execution_count": 14
        }
      ]
    },
    {
      "cell_type": "code",
      "metadata": {
        "colab": {
          "base_uri": "https://localhost:8080/"
        },
        "id": "-9PiQ60GA93Y",
        "outputId": "e3aaa9f0-5bef-4de3-f4ad-039652843725"
      },
      "source": [
        "A[0,2] = 7.5\n",
        "A"
      ],
      "execution_count": 15,
      "outputs": [
        {
          "output_type": "execute_result",
          "data": {
            "text/plain": [
              "array([[ 0. ,  1. ,  7.5,  0.1],\n",
              "       [ 1.3,  4. , -0.1,  0. ],\n",
              "       [ 4.1, -1. ,  0. ,  1.7]])"
            ]
          },
          "metadata": {},
          "execution_count": 15
        }
      ]
    },
    {
      "cell_type": "code",
      "metadata": {
        "colab": {
          "base_uri": "https://localhost:8080/"
        },
        "id": "VT8Duuz4BmFg",
        "outputId": "2656985e-70cb-4b91-b45a-9a747fc57c5f"
      },
      "source": [
        "A = np.array([[0,1, -2.3, 0.1], [1.3, 4, -0.1, 0], [4.1, -1.0, 0, 1.7]])\n",
        "B = A.copy()\n",
        "A == B"
      ],
      "execution_count": 16,
      "outputs": [
        {
          "output_type": "execute_result",
          "data": {
            "text/plain": [
              "array([[ True,  True,  True,  True],\n",
              "       [ True,  True,  True,  True],\n",
              "       [ True,  True,  True,  True]])"
            ]
          },
          "metadata": {},
          "execution_count": 16
        }
      ]
    },
    {
      "cell_type": "code",
      "metadata": {
        "colab": {
          "base_uri": "https://localhost:8080/"
        },
        "id": "jdNv1qN5BzK5",
        "outputId": "7a5e54a4-42e0-4aa0-9b5d-b82cc113892c"
      },
      "source": [
        "B[0,3] =100\n",
        "np.sum(A==B)"
      ],
      "execution_count": 18,
      "outputs": [
        {
          "output_type": "execute_result",
          "data": {
            "text/plain": [
              "11"
            ]
          },
          "metadata": {},
          "execution_count": 18
        }
      ]
    },
    {
      "cell_type": "code",
      "metadata": {
        "colab": {
          "base_uri": "https://localhost:8080/"
        },
        "id": "2bIM3qMJCIPW",
        "outputId": "6873cbff-1dd9-4072-f5bf-0d52606c568a"
      },
      "source": [
        "B[0,3] = 200\n",
        "A == B"
      ],
      "execution_count": 19,
      "outputs": [
        {
          "output_type": "execute_result",
          "data": {
            "text/plain": [
              "array([[ True,  True,  True, False],\n",
              "       [ True,  True,  True,  True],\n",
              "       [ True,  True,  True,  True]])"
            ]
          },
          "metadata": {},
          "execution_count": 19
        }
      ]
    },
    {
      "cell_type": "code",
      "metadata": {
        "colab": {
          "base_uri": "https://localhost:8080/"
        },
        "id": "ckxZFOzHCNE-",
        "outputId": "9ea57fa3-17a9-4428-f53f-7507212927d9"
      },
      "source": [
        "A = np.array([[-1, 0, 1, 0], [2, -3, 0, 1], [0,4, -2, 1]])\n",
        "A"
      ],
      "execution_count": 21,
      "outputs": [
        {
          "output_type": "execute_result",
          "data": {
            "text/plain": [
              "array([[-1,  0,  1,  0],\n",
              "       [ 2, -3,  0,  1],\n",
              "       [ 0,  4, -2,  1]])"
            ]
          },
          "metadata": {},
          "execution_count": 21
        }
      ]
    },
    {
      "cell_type": "code",
      "metadata": {
        "colab": {
          "base_uri": "https://localhost:8080/"
        },
        "id": "GTTXMioLEjtP",
        "outputId": "d5346f02-7625-49f3-df8a-c277a66eedf1"
      },
      "source": [
        "A[0:2]"
      ],
      "execution_count": 22,
      "outputs": [
        {
          "output_type": "execute_result",
          "data": {
            "text/plain": [
              "array([[-1,  0,  1,  0],\n",
              "       [ 2, -3,  0,  1]])"
            ]
          },
          "metadata": {},
          "execution_count": 22
        }
      ]
    },
    {
      "cell_type": "code",
      "metadata": {
        "colab": {
          "base_uri": "https://localhost:8080/"
        },
        "id": "9mvK3_p2EsIP",
        "outputId": "4337cfad-d492-4697-c3e7-1debf2fed484"
      },
      "source": [
        "A[0:2, 2:4]"
      ],
      "execution_count": 23,
      "outputs": [
        {
          "output_type": "execute_result",
          "data": {
            "text/plain": [
              "array([[1, 0],\n",
              "       [0, 1]])"
            ]
          },
          "metadata": {},
          "execution_count": 23
        }
      ]
    },
    {
      "cell_type": "code",
      "metadata": {
        "colab": {
          "base_uri": "https://localhost:8080/"
        },
        "id": "rNp4RbTyEzUK",
        "outputId": "6280e75e-ef2e-432d-a67d-3ef2c6969b8c"
      },
      "source": [
        "A[:,2]"
      ],
      "execution_count": 24,
      "outputs": [
        {
          "output_type": "execute_result",
          "data": {
            "text/plain": [
              "array([ 1,  0, -2])"
            ]
          },
          "metadata": {},
          "execution_count": 24
        }
      ]
    },
    {
      "cell_type": "code",
      "metadata": {
        "colab": {
          "base_uri": "https://localhost:8080/"
        },
        "id": "WslZ_1s2FBHH",
        "outputId": "26504568-0591-4f8b-9c41-0a3f1ebffa8e"
      },
      "source": [
        "A[1,:]"
      ],
      "execution_count": 26,
      "outputs": [
        {
          "output_type": "execute_result",
          "data": {
            "text/plain": [
              "array([ 2, -3,  0,  1])"
            ]
          },
          "metadata": {},
          "execution_count": 26
        }
      ]
    },
    {
      "cell_type": "code",
      "metadata": {
        "colab": {
          "base_uri": "https://localhost:8080/"
        },
        "id": "K2JZtmvxFHjx",
        "outputId": "76dffec4-78dd-475a-8404-6a1b31008ea3"
      },
      "source": [
        "print(A.reshape(6,2))\n"
      ],
      "execution_count": 30,
      "outputs": [
        {
          "output_type": "stream",
          "name": "stdout",
          "text": [
            "[[-1  0]\n",
            " [ 1  0]\n",
            " [ 2 -3]\n",
            " [ 0  1]\n",
            " [ 0  4]\n",
            " [-2  1]]\n"
          ]
        }
      ]
    },
    {
      "cell_type": "code",
      "metadata": {
        "colab": {
          "base_uri": "https://localhost:8080/",
          "height": 172
        },
        "id": "4a0qzXL9FW6q",
        "outputId": "7951d177-01aa-4d7e-8ed5-a2beccc584e6"
      },
      "source": [
        "print(A.reshape(3,8))"
      ],
      "execution_count": 31,
      "outputs": [
        {
          "output_type": "error",
          "ename": "ValueError",
          "evalue": "ignored",
          "traceback": [
            "\u001b[0;31m---------------------------------------------------------------------------\u001b[0m",
            "\u001b[0;31mValueError\u001b[0m                                Traceback (most recent call last)",
            "\u001b[0;32m<ipython-input-31-728123ba2701>\u001b[0m in \u001b[0;36m<module>\u001b[0;34m()\u001b[0m\n\u001b[0;32m----> 1\u001b[0;31m \u001b[0mprint\u001b[0m\u001b[0;34m(\u001b[0m\u001b[0mA\u001b[0m\u001b[0;34m.\u001b[0m\u001b[0mreshape\u001b[0m\u001b[0;34m(\u001b[0m\u001b[0;36m3\u001b[0m\u001b[0;34m,\u001b[0m\u001b[0;36m8\u001b[0m\u001b[0;34m)\u001b[0m\u001b[0;34m)\u001b[0m\u001b[0;34m\u001b[0m\u001b[0;34m\u001b[0m\u001b[0m\n\u001b[0m",
            "\u001b[0;31mValueError\u001b[0m: cannot reshape array of size 12 into shape (3,8)"
          ]
        }
      ]
    },
    {
      "cell_type": "code",
      "metadata": {
        "colab": {
          "base_uri": "https://localhost:8080/"
        },
        "id": "lvVO3kRyGCtq",
        "outputId": "cbb90827-0497-4e47-e5e4-28eea947c9de"
      },
      "source": [
        "B = np.array([0,2,3])\n",
        "C = np.array([-1])\n",
        "D = np.array([[2,2,1], [1,3,5]])\n",
        "E = np.array([[4], [4]])\n",
        "A = np.block([[B,C], [D,E]])\n",
        "A"
      ],
      "execution_count": 34,
      "outputs": [
        {
          "output_type": "execute_result",
          "data": {
            "text/plain": [
              "array([[ 0,  2,  3, -1],\n",
              "       [ 2,  2,  1,  4],\n",
              "       [ 1,  3,  5,  4]])"
            ]
          },
          "metadata": {},
          "execution_count": 34
        }
      ]
    },
    {
      "cell_type": "code",
      "metadata": {
        "colab": {
          "base_uri": "https://localhost:8080/"
        },
        "id": "xDfMHsW5HHdo",
        "outputId": "b23251e5-e320-474d-f995-bbbcaff5d9d8"
      },
      "source": [
        "a = [1,2]\n",
        "b = [4,5]\n",
        "c = [7,8]\n",
        "A = np.vstack([a,b,c])\n",
        "B = np.hstack([a,b,c])\n",
        "print('matrix A : ',A)\n",
        "print('dimensions of A : ', A.shape)\n",
        "print('matrix B : ',B)\n",
        "print('dimensions of B : ', B.shape)"
      ],
      "execution_count": 35,
      "outputs": [
        {
          "output_type": "stream",
          "name": "stdout",
          "text": [
            "matrix A :  [[1 2]\n",
            " [4 5]\n",
            " [7 8]]\n",
            "dimensions of A :  (3, 2)\n",
            "matrix B :  [1 2 4 5 7 8]\n",
            "dimensions of B :  (6,)\n"
          ]
        }
      ]
    },
    {
      "cell_type": "code",
      "metadata": {
        "colab": {
          "base_uri": "https://localhost:8080/"
        },
        "id": "TlyijcKJI_Oy",
        "outputId": "f99047e2-9903-405a-c8a6-7fb956df961a"
      },
      "source": [
        "np.zeros((4,3))"
      ],
      "execution_count": 37,
      "outputs": [
        {
          "output_type": "execute_result",
          "data": {
            "text/plain": [
              "array([[0., 0., 0.],\n",
              "       [0., 0., 0.],\n",
              "       [0., 0., 0.],\n",
              "       [0., 0., 0.]])"
            ]
          },
          "metadata": {},
          "execution_count": 37
        }
      ]
    },
    {
      "cell_type": "code",
      "metadata": {
        "colab": {
          "base_uri": "https://localhost:8080/"
        },
        "id": "X9FXUjVdJONj",
        "outputId": "f079625e-4f0a-4765-f425-3c9a11dc2781"
      },
      "source": [
        "np.ones((3,4))"
      ],
      "execution_count": 38,
      "outputs": [
        {
          "output_type": "execute_result",
          "data": {
            "text/plain": [
              "array([[1., 1., 1., 1.],\n",
              "       [1., 1., 1., 1.],\n",
              "       [1., 1., 1., 1.]])"
            ]
          },
          "metadata": {},
          "execution_count": 38
        }
      ]
    },
    {
      "cell_type": "code",
      "metadata": {
        "colab": {
          "base_uri": "https://localhost:8080/"
        },
        "id": "6jpEzZ30JSCM",
        "outputId": "c644fd5e-5fb1-4a1f-c95f-ebc93dae155a"
      },
      "source": [
        "np.identity(4)"
      ],
      "execution_count": 39,
      "outputs": [
        {
          "output_type": "execute_result",
          "data": {
            "text/plain": [
              "array([[1., 0., 0., 0.],\n",
              "       [0., 1., 0., 0.],\n",
              "       [0., 0., 1., 0.],\n",
              "       [0., 0., 0., 1.]])"
            ]
          },
          "metadata": {},
          "execution_count": 39
        }
      ]
    },
    {
      "cell_type": "code",
      "metadata": {
        "colab": {
          "base_uri": "https://localhost:8080/"
        },
        "id": "ByU62OfaJUmP",
        "outputId": "f9f05428-85e0-4187-acb5-b8ecb827be91"
      },
      "source": [
        "x = np.array([[0,1,2], [3,4,5], [6,7,8]])\n",
        "v = np.diag(x)\n",
        "v"
      ],
      "execution_count": 40,
      "outputs": [
        {
          "output_type": "execute_result",
          "data": {
            "text/plain": [
              "array([0, 4, 8])"
            ]
          },
          "metadata": {},
          "execution_count": 40
        }
      ]
    },
    {
      "cell_type": "code",
      "metadata": {
        "colab": {
          "base_uri": "https://localhost:8080/"
        },
        "id": "xPmYVey3JiSC",
        "outputId": "e0cef5a7-236b-4b77-b914-a538a6ff4d75"
      },
      "source": [
        "y = np.diag(v)\n",
        "y"
      ],
      "execution_count": 41,
      "outputs": [
        {
          "output_type": "execute_result",
          "data": {
            "text/plain": [
              "array([[0, 0, 0],\n",
              "       [0, 4, 0],\n",
              "       [0, 0, 8]])"
            ]
          },
          "metadata": {},
          "execution_count": 41
        }
      ]
    },
    {
      "cell_type": "code",
      "metadata": {
        "colab": {
          "base_uri": "https://localhost:8080/"
        },
        "id": "uGBx1FeWJmGv",
        "outputId": "c48f74ab-887b-41cf-9ff6-22941d5b271c"
      },
      "source": [
        "np.random.random((3,4))"
      ],
      "execution_count": 42,
      "outputs": [
        {
          "output_type": "execute_result",
          "data": {
            "text/plain": [
              "array([[0.38114542, 0.61406327, 0.37438348, 0.27941002],\n",
              "       [0.63736281, 0.69337134, 0.49423725, 0.70846396],\n",
              "       [0.86392265, 0.32331149, 0.39993211, 0.28953105]])"
            ]
          },
          "metadata": {},
          "execution_count": 42
        }
      ]
    },
    {
      "cell_type": "code",
      "metadata": {
        "colab": {
          "base_uri": "https://localhost:8080/"
        },
        "id": "fAAYHN3WJqak",
        "outputId": "484f4224-09d2-4ac8-988e-2c398554c0e7"
      },
      "source": [
        "np.random.randn(3,4)"
      ],
      "execution_count": 45,
      "outputs": [
        {
          "output_type": "execute_result",
          "data": {
            "text/plain": [
              "array([[ 0.08555056,  0.71848601, -0.18271898,  0.9521051 ],\n",
              "       [-2.19539347,  1.52354806, -1.16777058, -1.21246406],\n",
              "       [-0.00882752,  0.09353676,  0.08505102, -0.26580938]])"
            ]
          },
          "metadata": {},
          "execution_count": 45
        }
      ]
    },
    {
      "cell_type": "code",
      "metadata": {
        "colab": {
          "base_uri": "https://localhost:8080/"
        },
        "id": "8WXI_HeZMGCX",
        "outputId": "1548bc98-1430-401b-a8bb-68d5ff56af60"
      },
      "source": [
        "H = np.array([[0,-1,2,3], [0, 9, -8, 5]])\n",
        "H"
      ],
      "execution_count": 46,
      "outputs": [
        {
          "output_type": "execute_result",
          "data": {
            "text/plain": [
              "array([[ 0, -1,  2,  3],\n",
              "       [ 0,  9, -8,  5]])"
            ]
          },
          "metadata": {},
          "execution_count": 46
        }
      ]
    },
    {
      "cell_type": "code",
      "metadata": {
        "colab": {
          "base_uri": "https://localhost:8080/"
        },
        "id": "Bfesr37cMRFm",
        "outputId": "bf7de990-9cf1-4d9c-f3b7-265e8201df92"
      },
      "source": [
        "H.T"
      ],
      "execution_count": 47,
      "outputs": [
        {
          "output_type": "execute_result",
          "data": {
            "text/plain": [
              "array([[ 0,  0],\n",
              "       [-1,  9],\n",
              "       [ 2, -8],\n",
              "       [ 3,  5]])"
            ]
          },
          "metadata": {},
          "execution_count": 47
        }
      ]
    },
    {
      "cell_type": "code",
      "metadata": {
        "colab": {
          "base_uri": "https://localhost:8080/"
        },
        "id": "OTuEPlPHMWYA",
        "outputId": "e1d7db38-4d84-443d-87bc-87a9f7ab767c"
      },
      "source": [
        "np.transpose(H)"
      ],
      "execution_count": 48,
      "outputs": [
        {
          "output_type": "execute_result",
          "data": {
            "text/plain": [
              "array([[ 0,  0],\n",
              "       [-1,  9],\n",
              "       [ 2, -8],\n",
              "       [ 3,  5]])"
            ]
          },
          "metadata": {},
          "execution_count": 48
        }
      ]
    },
    {
      "cell_type": "code",
      "metadata": {
        "colab": {
          "base_uri": "https://localhost:8080/"
        },
        "id": "9SEwCbCXMZvD",
        "outputId": "f7b777e1-29b5-4105-9fb3-47dedccf57b1"
      },
      "source": [
        "U = np.array([[0,4], [1,5], [3,6]])\n",
        "V = np.array([[3,4], [2,5], [6,9]])\n",
        "U + V"
      ],
      "execution_count": 52,
      "outputs": [
        {
          "output_type": "execute_result",
          "data": {
            "text/plain": [
              "array([[ 3,  8],\n",
              "       [ 3, 10],\n",
              "       [ 9, 15]])"
            ]
          },
          "metadata": {},
          "execution_count": 52
        }
      ]
    },
    {
      "cell_type": "code",
      "metadata": {
        "colab": {
          "base_uri": "https://localhost:8080/"
        },
        "id": "s2u5tu9hNJZv",
        "outputId": "4bab2c1a-7962-4f35-efc0-5d1bd0cd9994"
      },
      "source": [
        "2.2*U"
      ],
      "execution_count": 53,
      "outputs": [
        {
          "output_type": "execute_result",
          "data": {
            "text/plain": [
              "array([[ 0. ,  8.8],\n",
              "       [ 2.2, 11. ],\n",
              "       [ 6.6, 13.2]])"
            ]
          },
          "metadata": {},
          "execution_count": 53
        }
      ]
    },
    {
      "cell_type": "code",
      "metadata": {
        "colab": {
          "base_uri": "https://localhost:8080/"
        },
        "id": "GOglSrgDNMfH",
        "outputId": "7f895979-ed05-4d5f-a012-2ffbabaa8d84"
      },
      "source": [
        "A = np.array([[2,3,-1], [0, -1,4]])\n",
        "np.linalg.norm(A)"
      ],
      "execution_count": 54,
      "outputs": [
        {
          "output_type": "execute_result",
          "data": {
            "text/plain": [
              "5.5677643628300215"
            ]
          },
          "metadata": {},
          "execution_count": 54
        }
      ]
    },
    {
      "cell_type": "code",
      "metadata": {
        "colab": {
          "base_uri": "https://localhost:8080/"
        },
        "id": "1PivZQNENYel",
        "outputId": "94e7deb8-24b6-459f-ee8e-bf7ef7200579"
      },
      "source": [
        "Rot = lambda theta: [[np.cos(theta), -np.sin(theta)], [np.sin(theta), np.cos(theta)]]\n",
        "R = Rot(np.pi/3)\n",
        "R"
      ],
      "execution_count": 56,
      "outputs": [
        {
          "output_type": "execute_result",
          "data": {
            "text/plain": [
              "[[0.5000000000000001, -0.8660254037844386],\n",
              " [0.8660254037844386, 0.5000000000000001]]"
            ]
          },
          "metadata": {},
          "execution_count": 56
        }
      ]
    },
    {
      "cell_type": "code",
      "metadata": {
        "colab": {
          "base_uri": "https://localhost:8080/",
          "height": 475
        },
        "id": "lrTsp1TON4c4",
        "outputId": "d930079d-754d-41dd-a0e3-7e9473546950"
      },
      "source": [
        "points = np.array([[1,0], [1.5,0], [2,0], [1.5,0.25], [1,0.5]])\n",
        "rpoints = np.array(R @ p for p in points)\n",
        "import matplotlib.pyplot as plt\n",
        "plt.ion()\n",
        "plt.scatter([c[0] for c in points], [c[1] for c in points])\n",
        "plt.scatter([c[0] for c in rpoints], [c[1] for c in rpoints])\n",
        "plt.show()"
      ],
      "execution_count": 58,
      "outputs": [
        {
          "output_type": "error",
          "ename": "TypeError",
          "evalue": "ignored",
          "traceback": [
            "\u001b[0;31m---------------------------------------------------------------------------\u001b[0m",
            "\u001b[0;31mTypeError\u001b[0m                                 Traceback (most recent call last)",
            "\u001b[0;32m<ipython-input-58-921e28e36833>\u001b[0m in \u001b[0;36m<module>\u001b[0;34m()\u001b[0m\n\u001b[1;32m      4\u001b[0m \u001b[0mplt\u001b[0m\u001b[0;34m.\u001b[0m\u001b[0mion\u001b[0m\u001b[0;34m(\u001b[0m\u001b[0;34m)\u001b[0m\u001b[0;34m\u001b[0m\u001b[0;34m\u001b[0m\u001b[0m\n\u001b[1;32m      5\u001b[0m \u001b[0mplt\u001b[0m\u001b[0;34m.\u001b[0m\u001b[0mscatter\u001b[0m\u001b[0;34m(\u001b[0m\u001b[0;34m[\u001b[0m\u001b[0mc\u001b[0m\u001b[0;34m[\u001b[0m\u001b[0;36m0\u001b[0m\u001b[0;34m]\u001b[0m \u001b[0;32mfor\u001b[0m \u001b[0mc\u001b[0m \u001b[0;32min\u001b[0m \u001b[0mpoints\u001b[0m\u001b[0;34m]\u001b[0m\u001b[0;34m,\u001b[0m \u001b[0;34m[\u001b[0m\u001b[0mc\u001b[0m\u001b[0;34m[\u001b[0m\u001b[0;36m1\u001b[0m\u001b[0;34m]\u001b[0m \u001b[0;32mfor\u001b[0m \u001b[0mc\u001b[0m \u001b[0;32min\u001b[0m \u001b[0mpoints\u001b[0m\u001b[0;34m]\u001b[0m\u001b[0;34m)\u001b[0m\u001b[0;34m\u001b[0m\u001b[0;34m\u001b[0m\u001b[0m\n\u001b[0;32m----> 6\u001b[0;31m \u001b[0mplt\u001b[0m\u001b[0;34m.\u001b[0m\u001b[0mscatter\u001b[0m\u001b[0;34m(\u001b[0m\u001b[0;34m[\u001b[0m\u001b[0mc\u001b[0m\u001b[0;34m[\u001b[0m\u001b[0;36m0\u001b[0m\u001b[0;34m]\u001b[0m \u001b[0;32mfor\u001b[0m \u001b[0mc\u001b[0m \u001b[0;32min\u001b[0m \u001b[0mrpoints\u001b[0m\u001b[0;34m]\u001b[0m\u001b[0;34m,\u001b[0m \u001b[0;34m[\u001b[0m\u001b[0mc\u001b[0m\u001b[0;34m[\u001b[0m\u001b[0;36m1\u001b[0m\u001b[0;34m]\u001b[0m \u001b[0;32mfor\u001b[0m \u001b[0mc\u001b[0m \u001b[0;32min\u001b[0m \u001b[0mrpoints\u001b[0m\u001b[0;34m]\u001b[0m\u001b[0;34m)\u001b[0m\u001b[0;34m\u001b[0m\u001b[0;34m\u001b[0m\u001b[0m\n\u001b[0m\u001b[1;32m      7\u001b[0m \u001b[0mplt\u001b[0m\u001b[0;34m.\u001b[0m\u001b[0mshow\u001b[0m\u001b[0;34m(\u001b[0m\u001b[0;34m)\u001b[0m\u001b[0;34m\u001b[0m\u001b[0;34m\u001b[0m\u001b[0m\n",
            "\u001b[0;31mTypeError\u001b[0m: iteration over a 0-d array"
          ]
        },
        {
          "output_type": "display_data",
          "data": {
            "image/png": "[encoded data removed]",
            "text/plain": [
              "<Figure size 432x288 with 1 Axes>"
            ]
          },
          "metadata": {
            "needs_background": "light"
          }
        }
      ]
    },
    {
      "cell_type": "markdown",
      "metadata": {
        "id": "E-u7o4XzNB0c"
      },
      "source": [
        ""
      ]
    }
  ]
}